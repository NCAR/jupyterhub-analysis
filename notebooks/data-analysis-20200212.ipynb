{
 "cells": [
  {
   "cell_type": "code",
   "execution_count": 1,
   "metadata": {},
   "outputs": [],
   "source": [
    "%load_ext watermark\n",
    "import numpy as np\n",
    "import pandas as pd"
   ]
  },
  {
   "cell_type": "markdown",
   "metadata": {},
   "source": [
    "## Load the JupyterHub logs"
   ]
  },
  {
   "cell_type": "code",
   "execution_count": 2,
   "metadata": {},
   "outputs": [],
   "source": [
    "columns = ['user', 'machine', 'session_start', 'session_end', 'session_length', 'log_file']"
   ]
  },
  {
   "cell_type": "code",
   "execution_count": 3,
   "metadata": {},
   "outputs": [
    {
     "data": {
      "text/html": [
       "<div>\n",
       "<style scoped>\n",
       "    .dataframe tbody tr th:only-of-type {\n",
       "        vertical-align: middle;\n",
       "    }\n",
       "\n",
       "    .dataframe tbody tr th {\n",
       "        vertical-align: top;\n",
       "    }\n",
       "\n",
       "    .dataframe thead th {\n",
       "        text-align: right;\n",
       "    }\n",
       "</style>\n",
       "<table border=\"1\" class=\"dataframe\">\n",
       "  <thead>\n",
       "    <tr style=\"text-align: right;\">\n",
       "      <th></th>\n",
       "      <th>user</th>\n",
       "      <th>machine</th>\n",
       "      <th>session_start</th>\n",
       "      <th>session_end</th>\n",
       "      <th>session_length</th>\n",
       "      <th>log_file</th>\n",
       "    </tr>\n",
       "  </thead>\n",
       "  <tbody>\n",
       "    <tr>\n",
       "      <th>0</th>\n",
       "      <td>20d8049712498ad1e232</td>\n",
       "      <td>cheyenne</td>\n",
       "      <td>2019-10-17 09:04:13</td>\n",
       "      <td>2019-10-17 11:04:20</td>\n",
       "      <td>120.116667</td>\n",
       "      <td>3aebf8397c312169a649</td>\n",
       "    </tr>\n",
       "    <tr>\n",
       "      <th>1</th>\n",
       "      <td>20d8049712498ad1e232</td>\n",
       "      <td>cheyenne</td>\n",
       "      <td>2019-10-18 16:40:04</td>\n",
       "      <td>2019-10-18 16:42:08</td>\n",
       "      <td>2.066667</td>\n",
       "      <td>0af27edd1d54f8f64735</td>\n",
       "    </tr>\n",
       "    <tr>\n",
       "      <th>2</th>\n",
       "      <td>20d8049712498ad1e232</td>\n",
       "      <td>cheyenne</td>\n",
       "      <td>2019-10-18 11:44:28</td>\n",
       "      <td>2019-10-18 12:18:35</td>\n",
       "      <td>34.116667</td>\n",
       "      <td>044c2c11e5ebf6972a1d</td>\n",
       "    </tr>\n",
       "    <tr>\n",
       "      <th>3</th>\n",
       "      <td>20d8049712498ad1e232</td>\n",
       "      <td>cheyenne</td>\n",
       "      <td>2019-10-17 15:42:48</td>\n",
       "      <td>2019-10-17 15:46:53</td>\n",
       "      <td>4.083333</td>\n",
       "      <td>2055777649346c360841</td>\n",
       "    </tr>\n",
       "    <tr>\n",
       "      <th>4</th>\n",
       "      <td>20d8049712498ad1e232</td>\n",
       "      <td>cheyenne</td>\n",
       "      <td>2019-10-17 15:48:52</td>\n",
       "      <td>2019-10-17 15:57:59</td>\n",
       "      <td>9.116667</td>\n",
       "      <td>84be1d0c9fab13fcd4c1</td>\n",
       "    </tr>\n",
       "  </tbody>\n",
       "</table>\n",
       "</div>"
      ],
      "text/plain": [
       "                   user   machine       session_start         session_end  \\\n",
       "0  20d8049712498ad1e232  cheyenne 2019-10-17 09:04:13 2019-10-17 11:04:20   \n",
       "1  20d8049712498ad1e232  cheyenne 2019-10-18 16:40:04 2019-10-18 16:42:08   \n",
       "2  20d8049712498ad1e232  cheyenne 2019-10-18 11:44:28 2019-10-18 12:18:35   \n",
       "3  20d8049712498ad1e232  cheyenne 2019-10-17 15:42:48 2019-10-17 15:46:53   \n",
       "4  20d8049712498ad1e232  cheyenne 2019-10-17 15:48:52 2019-10-17 15:57:59   \n",
       "\n",
       "   session_length              log_file  \n",
       "0      120.116667  3aebf8397c312169a649  \n",
       "1        2.066667  0af27edd1d54f8f64735  \n",
       "2       34.116667  044c2c11e5ebf6972a1d  \n",
       "3        4.083333  2055777649346c360841  \n",
       "4        9.116667  84be1d0c9fab13fcd4c1  "
      ]
     },
     "execution_count": 3,
     "metadata": {},
     "output_type": "execute_result"
    }
   ],
   "source": [
    "df = pd.read_csv(\"../data/jhub_logs.csv.gz\", parse_dates=[\"session_start\", \"session_end\"])\n",
    "df[\"session_length\"] = (df.session_end - df.session_start).dt.total_seconds().div(60)\n",
    "df = df[columns]\n",
    "df.head()"
   ]
  },
  {
   "cell_type": "markdown",
   "metadata": {},
   "source": [
    "## Basic Statistics\n",
    "\n",
    "Some basic statistics from the logs."
   ]
  },
  {
   "cell_type": "code",
   "execution_count": 4,
   "metadata": {},
   "outputs": [
    {
     "name": "stdout",
     "output_type": "stream",
     "text": [
      "Total number of sessions:  6477\n"
     ]
    }
   ],
   "source": [
    "print(f'Total number of sessions:  {len(df)}')"
   ]
  },
  {
   "cell_type": "code",
   "execution_count": 5,
   "metadata": {},
   "outputs": [
    {
     "name": "stdout",
     "output_type": "stream",
     "text": [
      "Total span of logs:  255 days 23:00:58\n",
      "   From: 2019-05-21 16:49:20\n",
      "   To:   2020-02-01 15:50:18\n"
     ]
    }
   ],
   "source": [
    "print(f'Total span of logs:  {df.session_end.max() - df.session_start.min()}')\n",
    "print(f'   From: {df.session_start.min()}')\n",
    "print(f'   To:   {df.session_end.max()}')"
   ]
  },
  {
   "cell_type": "code",
   "execution_count": 6,
   "metadata": {},
   "outputs": [
    {
     "name": "stdout",
     "output_type": "stream",
     "text": [
      "Session Lengths [minutes]:\n",
      "   Minimum:  0.0\n",
      "   Maximum:  2494.6\n",
      "   Mean:     113.3139051883879\n",
      "   Median:   118.5\n"
     ]
    }
   ],
   "source": [
    "print(f'Session Lengths [minutes]:')\n",
    "print(f'   Minimum:  {df.session_length.min()}')\n",
    "print(f'   Maximum:  {df.session_length.max()}')\n",
    "print(f'   Mean:     {df.session_length.mean()}')\n",
    "print(f'   Median:   {df.session_length.median()}')"
   ]
  },
  {
   "cell_type": "code",
   "execution_count": 7,
   "metadata": {},
   "outputs": [
    {
     "name": "stdout",
     "output_type": "stream",
     "text": [
      "Number of Unique Users:  180\n"
     ]
    }
   ],
   "source": [
    "print(f'Number of Unique Users:  {df.user.nunique()}')"
   ]
  },
  {
   "cell_type": "markdown",
   "metadata": {},
   "source": [
    "## Tutorials\n",
    "\n",
    "Three tutorials have been given during the duration of the logs.  We note the dates for these tutorials so that we can reference their times in the plots below."
   ]
  },
  {
   "cell_type": "code",
   "execution_count": 8,
   "metadata": {},
   "outputs": [],
   "source": [
    "tutorials = {'jun': [\"2019-06-03\", \"2019-06-05\"],\n",
    "             'sep': [\"2019-09-18\", \"2019-09-20\"],\n",
    "             'oct': [\"2019-10-16\", \"2019-10-18\"]}"
   ]
  },
  {
   "cell_type": "markdown",
   "metadata": {},
   "source": [
    "## Sessions by Day & Month\n",
    "\n",
    "First, we take a look at the number of sessions per day over the span of the logs."
   ]
  },
  {
   "cell_type": "code",
   "execution_count": 9,
   "metadata": {},
   "outputs": [],
   "source": [
    "days = pd.date_range(df.session_start.min(),\n",
    "                     df.session_end.max() + pd.DateOffset(days=1),\n",
    "                     freq='D').normalize()\n",
    "mons = pd.date_range(df.session_start.min() - pd.DateOffset(months=1),\n",
    "                     df.session_end.max() + pd.DateOffset(months=1),\n",
    "                     freq='MS').normalize()"
   ]
  },
  {
   "cell_type": "code",
   "execution_count": 10,
   "metadata": {},
   "outputs": [],
   "source": [
    "sess_per_day = 0.5 * (df.groupby(pd.cut(df.session_start, days)).size() +\n",
    "                      df.groupby(pd.cut(df.session_end, days)).size()).rename('Sessions per Day')\n",
    "sess_per_mon = 0.5 * (df.groupby(pd.cut(df.session_start, mons)).size() +\n",
    "                      df.groupby(pd.cut(df.session_end, mons)).size()).rename('Sessions per Month')"
   ]
  },
  {
   "cell_type": "code",
   "execution_count": 11,
   "metadata": {},
   "outputs": [
    {
     "data": {
      "image/png": "[encoded data removed]",
      "text/plain": [
       "<Figure size 1008x360 with 1 Axes>"
      ]
     },
     "metadata": {
      "needs_background": "light"
     },
     "output_type": "display_data"
    }
   ],
   "source": [
    "ax = sess_per_day.plot.bar(figsize=(14,5))\n",
    "xticks = np.linspace(0, len(days)-1, 10, dtype=int)\n",
    "ax.set_xticks(xticks)\n",
    "ax.set_xticklabels([days[i].strftime('%Y-%m-%d') for i in xticks])\n",
    "ax.set_title('Number of JupyterHub Sessions per Day', fontsize=16)\n",
    "for tutorial in tutorials:\n",
    "    t1, t2 = tutorials[tutorial]\n",
    "    ax.axvspan(days.get_loc(t1)-1, days.get_loc(t2)+1, facecolor='r', alpha=.3, edgecolor='none')"
   ]
  },
  {
   "cell_type": "code",
   "execution_count": 12,
   "metadata": {},
   "outputs": [
    {
     "data": {
      "image/png": "[encoded data removed]",
      "text/plain": [
       "<Figure size 1008x360 with 1 Axes>"
      ]
     },
     "metadata": {
      "needs_background": "light"
     },
     "output_type": "display_data"
    }
   ],
   "source": [
    "ax = sess_per_mon.plot.bar(figsize=(14,5))\n",
    "xticks = np.linspace(0, len(mons)-1, 10, dtype=int)\n",
    "ax.set_xticks(xticks)\n",
    "ax.set_xticklabels([mons[i].strftime('%Y-%m') for i in xticks])\n",
    "ax.set_title('Number of JupyterHub Sessions per Month', fontsize=16);"
   ]
  },
  {
   "cell_type": "markdown",
   "metadata": {},
   "source": [
    "**NOTE:** You can see a definite up-tick in the number of sessions following the September and October tutorials.  During this period of time, from August through October, the average number of sessions per day and month more than doubles."
   ]
  },
  {
   "cell_type": "markdown",
   "metadata": {},
   "source": [
    "## Unique Users by Day & Month\n",
    "\n",
    "Next, we look at the number of unique users per day and per month."
   ]
  },
  {
   "cell_type": "code",
   "execution_count": 13,
   "metadata": {},
   "outputs": [],
   "source": [
    "users_per_day = 0.5 * (df.user.groupby(pd.cut(df.session_start, days)).nunique() +\n",
    "                       df.user.groupby(pd.cut(df.session_end, days)).nunique()).rename('Unique Users per Day')\n",
    "users_per_mon = 0.5 * (df.user.groupby(pd.cut(df.session_start, mons)).nunique() +\n",
    "                       df.user.groupby(pd.cut(df.session_end, mons)).nunique()).rename('Unique Users per Month')"
   ]
  },
  {
   "cell_type": "code",
   "execution_count": 14,
   "metadata": {},
   "outputs": [
    {
     "data": {
      "image/png": "[encoded data removed]",
      "text/plain": [
       "<Figure size 1008x360 with 1 Axes>"
      ]
     },
     "metadata": {
      "needs_background": "light"
     },
     "output_type": "display_data"
    }
   ],
   "source": [
    "ax = users_per_day.plot.bar(figsize=(14,5))\n",
    "xticks = np.linspace(0, len(days)-1, 10, dtype=int)\n",
    "ax.set_xticks(xticks)\n",
    "ax.set_xticklabels([days[i].strftime('%Y-%m-%d') for i in xticks])\n",
    "ax.set_title('Number of Unqiue JupyterHub Users per Day', fontsize=16)\n",
    "for tutorial in tutorials:\n",
    "    t1, t2 = tutorials[tutorial]\n",
    "    ax.axvspan(days.get_loc(t1)-1, days.get_loc(t2)+1, facecolor='r', alpha=.3, edgecolor='none')"
   ]
  },
  {
   "cell_type": "code",
   "execution_count": 15,
   "metadata": {},
   "outputs": [
    {
     "data": {
      "image/png": "[encoded data removed]",
      "text/plain": [
       "<Figure size 1008x360 with 1 Axes>"
      ]
     },
     "metadata": {
      "needs_background": "light"
     },
     "output_type": "display_data"
    }
   ],
   "source": [
    "ax = users_per_mon.plot.bar(figsize=(14,5))\n",
    "xticks = np.linspace(0, len(mons)-1, 10, dtype=int)\n",
    "ax.set_xticks(xticks)\n",
    "ax.set_xticklabels([mons[i].strftime('%Y-%m') for i in xticks])\n",
    "ax.set_title('Number of Unique JupyterHub Users per Month', fontsize=16);"
   ]
  },
  {
   "cell_type": "markdown",
   "metadata": {},
   "source": [
    "**NOTE:** Again, you can note a growth in users following each tutorial/hackathon (September and October).  "
   ]
  },
  {
   "cell_type": "code",
   "execution_count": 16,
   "metadata": {},
   "outputs": [
    {
     "name": "stdout",
     "output_type": "stream",
     "text": [
      "pandas 1.0.1\n",
      "numpy  1.18.1\n",
      "last updated: 2020-02-13\n"
     ]
    }
   ],
   "source": [
    "%watermark -iv -d -u"
   ]
  }
 ],
 "metadata": {
  "kernelspec": {
   "display_name": "Python [conda env:jhubanalysis]",
   "language": "python",
   "name": "conda-env-jhubanalysis-py"
  },
  "language_info": {
   "codemirror_mode": {
    "name": "ipython",
    "version": 3
   },
   "file_extension": ".py",
   "mimetype": "text/x-python",
   "name": "python",
   "nbconvert_exporter": "python",
   "pygments_lexer": "ipython3",
   "version": "3.8.1"
  }
 },
 "nbformat": 4,
 "nbformat_minor": 4
}
